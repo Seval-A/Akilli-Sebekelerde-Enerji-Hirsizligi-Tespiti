{
 "cells": [
  {
   "cell_type": "code",
   "execution_count": 1,
   "metadata": {},
   "outputs": [],
   "source": [
    "import numpy as np\n",
    "import pandas as pd\n",
    "import matplotlib.pyplot as plt\n",
    "import seaborn as sbn\n",
    "import tensorflow as tf\n",
    "import shap\n"
   ]
  },
  {
   "cell_type": "code",
   "execution_count": 2,
   "metadata": {},
   "outputs": [],
   "source": [
    "df = pd.read_csv(\"outliersRemoved.csv\")"
   ]
  },
  {
   "cell_type": "code",
   "execution_count": 3,
   "metadata": {},
   "outputs": [],
   "source": [
    "from sklearn.model_selection import train_test_split"
   ]
  },
  {
   "cell_type": "code",
   "execution_count": 4,
   "metadata": {},
   "outputs": [
    {
     "data": {
      "text/html": [
       "<div>\n",
       "<style scoped>\n",
       "    .dataframe tbody tr th:only-of-type {\n",
       "        vertical-align: middle;\n",
       "    }\n",
       "\n",
       "    .dataframe tbody tr th {\n",
       "        vertical-align: top;\n",
       "    }\n",
       "\n",
       "    .dataframe thead th {\n",
       "        text-align: right;\n",
       "    }\n",
       "</style>\n",
       "<table border=\"1\" class=\"dataframe\">\n",
       "  <thead>\n",
       "    <tr style=\"text-align: right;\">\n",
       "      <th></th>\n",
       "      <th>CONS_NO</th>\n",
       "      <th>FLAG</th>\n",
       "      <th>2014-01-01</th>\n",
       "      <th>2014-01-02</th>\n",
       "      <th>2014-01-03</th>\n",
       "      <th>2014-01-04</th>\n",
       "      <th>2014-01-05</th>\n",
       "      <th>2014-01-06</th>\n",
       "      <th>2014-01-07</th>\n",
       "      <th>2014-01-08</th>\n",
       "      <th>...</th>\n",
       "      <th>2016-10-22</th>\n",
       "      <th>2016-10-23</th>\n",
       "      <th>2016-10-24</th>\n",
       "      <th>2016-10-25</th>\n",
       "      <th>2016-10-26</th>\n",
       "      <th>2016-10-27</th>\n",
       "      <th>2016-10-28</th>\n",
       "      <th>2016-10-29</th>\n",
       "      <th>2016-10-30</th>\n",
       "      <th>2016-10-31</th>\n",
       "    </tr>\n",
       "  </thead>\n",
       "  <tbody>\n",
       "    <tr>\n",
       "      <th>0</th>\n",
       "      <td>0387DD8A07E07FDA6271170F86AD9151</td>\n",
       "      <td>1</td>\n",
       "      <td>0.00</td>\n",
       "      <td>0.00</td>\n",
       "      <td>0.00</td>\n",
       "      <td>0.00</td>\n",
       "      <td>0.00</td>\n",
       "      <td>0.00</td>\n",
       "      <td>0.00</td>\n",
       "      <td>0.00</td>\n",
       "      <td>...</td>\n",
       "      <td>7.18</td>\n",
       "      <td>8.07</td>\n",
       "      <td>8.09</td>\n",
       "      <td>9.53</td>\n",
       "      <td>5.48</td>\n",
       "      <td>8.75</td>\n",
       "      <td>9.30</td>\n",
       "      <td>7.54</td>\n",
       "      <td>9.16</td>\n",
       "      <td>6.74</td>\n",
       "    </tr>\n",
       "    <tr>\n",
       "      <th>1</th>\n",
       "      <td>01D6177B5D4FFE0CABA9EF17DAFC2B84</td>\n",
       "      <td>1</td>\n",
       "      <td>0.00</td>\n",
       "      <td>0.00</td>\n",
       "      <td>0.00</td>\n",
       "      <td>0.00</td>\n",
       "      <td>0.00</td>\n",
       "      <td>0.00</td>\n",
       "      <td>0.00</td>\n",
       "      <td>0.00</td>\n",
       "      <td>...</td>\n",
       "      <td>0.00</td>\n",
       "      <td>0.00</td>\n",
       "      <td>0.00</td>\n",
       "      <td>0.00</td>\n",
       "      <td>0.00</td>\n",
       "      <td>0.00</td>\n",
       "      <td>0.00</td>\n",
       "      <td>0.00</td>\n",
       "      <td>0.00</td>\n",
       "      <td>0.00</td>\n",
       "    </tr>\n",
       "    <tr>\n",
       "      <th>2</th>\n",
       "      <td>4B75AC4F2D8434CFF62DB64D0BB43103</td>\n",
       "      <td>1</td>\n",
       "      <td>0.00</td>\n",
       "      <td>0.00</td>\n",
       "      <td>0.00</td>\n",
       "      <td>0.00</td>\n",
       "      <td>0.00</td>\n",
       "      <td>0.00</td>\n",
       "      <td>0.00</td>\n",
       "      <td>0.00</td>\n",
       "      <td>...</td>\n",
       "      <td>10.95</td>\n",
       "      <td>17.95</td>\n",
       "      <td>17.83</td>\n",
       "      <td>17.31</td>\n",
       "      <td>21.44</td>\n",
       "      <td>19.09</td>\n",
       "      <td>18.56</td>\n",
       "      <td>16.25</td>\n",
       "      <td>14.20</td>\n",
       "      <td>13.66</td>\n",
       "    </tr>\n",
       "    <tr>\n",
       "      <th>3</th>\n",
       "      <td>B32AC8CC6D5D805AC053557AB05F5343</td>\n",
       "      <td>1</td>\n",
       "      <td>0.00</td>\n",
       "      <td>0.00</td>\n",
       "      <td>0.00</td>\n",
       "      <td>0.00</td>\n",
       "      <td>0.00</td>\n",
       "      <td>0.00</td>\n",
       "      <td>0.00</td>\n",
       "      <td>0.00</td>\n",
       "      <td>...</td>\n",
       "      <td>12.81</td>\n",
       "      <td>15.12</td>\n",
       "      <td>17.26</td>\n",
       "      <td>14.91</td>\n",
       "      <td>19.59</td>\n",
       "      <td>20.79</td>\n",
       "      <td>17.95</td>\n",
       "      <td>19.26</td>\n",
       "      <td>14.46</td>\n",
       "      <td>11.72</td>\n",
       "    </tr>\n",
       "    <tr>\n",
       "      <th>4</th>\n",
       "      <td>EDFC78B07BA2908B3395C4EB2304665E</td>\n",
       "      <td>1</td>\n",
       "      <td>2.90</td>\n",
       "      <td>5.64</td>\n",
       "      <td>6.99</td>\n",
       "      <td>3.32</td>\n",
       "      <td>3.61</td>\n",
       "      <td>5.35</td>\n",
       "      <td>4.73</td>\n",
       "      <td>3.68</td>\n",
       "      <td>...</td>\n",
       "      <td>14.21</td>\n",
       "      <td>10.22</td>\n",
       "      <td>8.47</td>\n",
       "      <td>6.11</td>\n",
       "      <td>6.10</td>\n",
       "      <td>6.73</td>\n",
       "      <td>7.52</td>\n",
       "      <td>10.89</td>\n",
       "      <td>9.86</td>\n",
       "      <td>8.72</td>\n",
       "    </tr>\n",
       "    <tr>\n",
       "      <th>...</th>\n",
       "      <td>...</td>\n",
       "      <td>...</td>\n",
       "      <td>...</td>\n",
       "      <td>...</td>\n",
       "      <td>...</td>\n",
       "      <td>...</td>\n",
       "      <td>...</td>\n",
       "      <td>...</td>\n",
       "      <td>...</td>\n",
       "      <td>...</td>\n",
       "      <td>...</td>\n",
       "      <td>...</td>\n",
       "      <td>...</td>\n",
       "      <td>...</td>\n",
       "      <td>...</td>\n",
       "      <td>...</td>\n",
       "      <td>...</td>\n",
       "      <td>...</td>\n",
       "      <td>...</td>\n",
       "      <td>...</td>\n",
       "      <td>...</td>\n",
       "    </tr>\n",
       "    <tr>\n",
       "      <th>42367</th>\n",
       "      <td>F1472871E1AFF49D4289564B6377D76C</td>\n",
       "      <td>0</td>\n",
       "      <td>0.00</td>\n",
       "      <td>0.00</td>\n",
       "      <td>0.00</td>\n",
       "      <td>0.00</td>\n",
       "      <td>0.00</td>\n",
       "      <td>0.00</td>\n",
       "      <td>0.00</td>\n",
       "      <td>0.00</td>\n",
       "      <td>...</td>\n",
       "      <td>3.27</td>\n",
       "      <td>3.10</td>\n",
       "      <td>2.75</td>\n",
       "      <td>3.01</td>\n",
       "      <td>2.99</td>\n",
       "      <td>2.83</td>\n",
       "      <td>2.54</td>\n",
       "      <td>3.40</td>\n",
       "      <td>3.59</td>\n",
       "      <td>2.54</td>\n",
       "    </tr>\n",
       "    <tr>\n",
       "      <th>42368</th>\n",
       "      <td>F3C8BBCD2DC26C1E0249DEEF6A4256B7</td>\n",
       "      <td>0</td>\n",
       "      <td>2.70</td>\n",
       "      <td>0.00</td>\n",
       "      <td>0.00</td>\n",
       "      <td>5.72</td>\n",
       "      <td>6.05</td>\n",
       "      <td>5.81</td>\n",
       "      <td>3.07</td>\n",
       "      <td>4.04</td>\n",
       "      <td>...</td>\n",
       "      <td>3.84</td>\n",
       "      <td>6.62</td>\n",
       "      <td>3.12</td>\n",
       "      <td>5.16</td>\n",
       "      <td>3.62</td>\n",
       "      <td>4.64</td>\n",
       "      <td>3.71</td>\n",
       "      <td>6.22</td>\n",
       "      <td>6.05</td>\n",
       "      <td>4.77</td>\n",
       "    </tr>\n",
       "    <tr>\n",
       "      <th>42369</th>\n",
       "      <td>A9A0FE83467A680FBFB0DBFC910DF227</td>\n",
       "      <td>0</td>\n",
       "      <td>0.58</td>\n",
       "      <td>1.16</td>\n",
       "      <td>0.92</td>\n",
       "      <td>0.98</td>\n",
       "      <td>1.54</td>\n",
       "      <td>1.38</td>\n",
       "      <td>0.89</td>\n",
       "      <td>0.70</td>\n",
       "      <td>...</td>\n",
       "      <td>0.99</td>\n",
       "      <td>0.61</td>\n",
       "      <td>0.65</td>\n",
       "      <td>0.55</td>\n",
       "      <td>0.49</td>\n",
       "      <td>0.51</td>\n",
       "      <td>0.79</td>\n",
       "      <td>0.66</td>\n",
       "      <td>0.39</td>\n",
       "      <td>0.65</td>\n",
       "    </tr>\n",
       "    <tr>\n",
       "      <th>42370</th>\n",
       "      <td>D9A6ADA018FA46A55D5438370456AA45</td>\n",
       "      <td>0</td>\n",
       "      <td>16.89</td>\n",
       "      <td>15.15</td>\n",
       "      <td>19.28</td>\n",
       "      <td>17.19</td>\n",
       "      <td>16.80</td>\n",
       "      <td>17.48</td>\n",
       "      <td>17.86</td>\n",
       "      <td>23.99</td>\n",
       "      <td>...</td>\n",
       "      <td>15.64</td>\n",
       "      <td>16.48</td>\n",
       "      <td>13.04</td>\n",
       "      <td>10.39</td>\n",
       "      <td>12.00</td>\n",
       "      <td>11.15</td>\n",
       "      <td>12.22</td>\n",
       "      <td>13.16</td>\n",
       "      <td>13.33</td>\n",
       "      <td>10.39</td>\n",
       "    </tr>\n",
       "    <tr>\n",
       "      <th>42371</th>\n",
       "      <td>F3406636BAD1E6E0826E8EDDC9A1BF00</td>\n",
       "      <td>0</td>\n",
       "      <td>0.00</td>\n",
       "      <td>0.00</td>\n",
       "      <td>0.00</td>\n",
       "      <td>0.00</td>\n",
       "      <td>0.00</td>\n",
       "      <td>0.00</td>\n",
       "      <td>0.00</td>\n",
       "      <td>0.00</td>\n",
       "      <td>...</td>\n",
       "      <td>10.56</td>\n",
       "      <td>17.14</td>\n",
       "      <td>8.35</td>\n",
       "      <td>8.68</td>\n",
       "      <td>6.39</td>\n",
       "      <td>7.96</td>\n",
       "      <td>8.13</td>\n",
       "      <td>11.50</td>\n",
       "      <td>7.16</td>\n",
       "      <td>5.25</td>\n",
       "    </tr>\n",
       "  </tbody>\n",
       "</table>\n",
       "<p>42372 rows × 1036 columns</p>\n",
       "</div>"
      ],
      "text/plain": [
       "                                CONS_NO  FLAG  2014-01-01  2014-01-02  \\\n",
       "0      0387DD8A07E07FDA6271170F86AD9151     1        0.00        0.00   \n",
       "1      01D6177B5D4FFE0CABA9EF17DAFC2B84     1        0.00        0.00   \n",
       "2      4B75AC4F2D8434CFF62DB64D0BB43103     1        0.00        0.00   \n",
       "3      B32AC8CC6D5D805AC053557AB05F5343     1        0.00        0.00   \n",
       "4      EDFC78B07BA2908B3395C4EB2304665E     1        2.90        5.64   \n",
       "...                                 ...   ...         ...         ...   \n",
       "42367  F1472871E1AFF49D4289564B6377D76C     0        0.00        0.00   \n",
       "42368  F3C8BBCD2DC26C1E0249DEEF6A4256B7     0        2.70        0.00   \n",
       "42369  A9A0FE83467A680FBFB0DBFC910DF227     0        0.58        1.16   \n",
       "42370  D9A6ADA018FA46A55D5438370456AA45     0       16.89       15.15   \n",
       "42371  F3406636BAD1E6E0826E8EDDC9A1BF00     0        0.00        0.00   \n",
       "\n",
       "       2014-01-03  2014-01-04  2014-01-05  2014-01-06  2014-01-07  2014-01-08  \\\n",
       "0            0.00        0.00        0.00        0.00        0.00        0.00   \n",
       "1            0.00        0.00        0.00        0.00        0.00        0.00   \n",
       "2            0.00        0.00        0.00        0.00        0.00        0.00   \n",
       "3            0.00        0.00        0.00        0.00        0.00        0.00   \n",
       "4            6.99        3.32        3.61        5.35        4.73        3.68   \n",
       "...           ...         ...         ...         ...         ...         ...   \n",
       "42367        0.00        0.00        0.00        0.00        0.00        0.00   \n",
       "42368        0.00        5.72        6.05        5.81        3.07        4.04   \n",
       "42369        0.92        0.98        1.54        1.38        0.89        0.70   \n",
       "42370       19.28       17.19       16.80       17.48       17.86       23.99   \n",
       "42371        0.00        0.00        0.00        0.00        0.00        0.00   \n",
       "\n",
       "       ...  2016-10-22  2016-10-23  2016-10-24  2016-10-25  2016-10-26  \\\n",
       "0      ...        7.18        8.07        8.09        9.53        5.48   \n",
       "1      ...        0.00        0.00        0.00        0.00        0.00   \n",
       "2      ...       10.95       17.95       17.83       17.31       21.44   \n",
       "3      ...       12.81       15.12       17.26       14.91       19.59   \n",
       "4      ...       14.21       10.22        8.47        6.11        6.10   \n",
       "...    ...         ...         ...         ...         ...         ...   \n",
       "42367  ...        3.27        3.10        2.75        3.01        2.99   \n",
       "42368  ...        3.84        6.62        3.12        5.16        3.62   \n",
       "42369  ...        0.99        0.61        0.65        0.55        0.49   \n",
       "42370  ...       15.64       16.48       13.04       10.39       12.00   \n",
       "42371  ...       10.56       17.14        8.35        8.68        6.39   \n",
       "\n",
       "       2016-10-27  2016-10-28  2016-10-29  2016-10-30  2016-10-31  \n",
       "0            8.75        9.30        7.54        9.16        6.74  \n",
       "1            0.00        0.00        0.00        0.00        0.00  \n",
       "2           19.09       18.56       16.25       14.20       13.66  \n",
       "3           20.79       17.95       19.26       14.46       11.72  \n",
       "4            6.73        7.52       10.89        9.86        8.72  \n",
       "...           ...         ...         ...         ...         ...  \n",
       "42367        2.83        2.54        3.40        3.59        2.54  \n",
       "42368        4.64        3.71        6.22        6.05        4.77  \n",
       "42369        0.51        0.79        0.66        0.39        0.65  \n",
       "42370       11.15       12.22       13.16       13.33       10.39  \n",
       "42371        7.96        8.13       11.50        7.16        5.25  \n",
       "\n",
       "[42372 rows x 1036 columns]"
      ]
     },
     "execution_count": 4,
     "metadata": {},
     "output_type": "execute_result"
    }
   ],
   "source": [
    "df"
   ]
  },
  {
   "cell_type": "code",
   "execution_count": 5,
   "metadata": {},
   "outputs": [],
   "source": [
    "y = df[\"FLAG\"].values\n",
    "dfX = df.drop(\"CONS_NO\", axis = 1)\n",
    "x = dfX.drop(\"FLAG\", axis=1).values\n"
   ]
  },
  {
   "cell_type": "code",
   "execution_count": 6,
   "metadata": {},
   "outputs": [],
   "source": [
    "x_train, x_test, y_train, y_test = train_test_split(x, y, test_size = 0.2, random_state = 15)"
   ]
  },
  {
   "cell_type": "code",
   "execution_count": 7,
   "metadata": {},
   "outputs": [],
   "source": [
    "from sklearn.preprocessing import MinMaxScaler\n",
    "scaler = MinMaxScaler()\n",
    "scaler.fit(x_train)\n",
    "x_train = scaler.transform(x_train)\n",
    "x_test = scaler.transform(x_test)\n",
    "\n"
   ]
  },
  {
   "cell_type": "code",
   "execution_count": 8,
   "metadata": {},
   "outputs": [
    {
     "name": "stdout",
     "output_type": "stream",
     "text": [
      "(33897, 1034)\n",
      "(33897,)\n",
      "(8475, 1034)\n",
      "(8475,)\n",
      "(33897, 47, 22, 1)\n",
      "(8475, 47, 22, 1)\n"
     ]
    }
   ],
   "source": [
    "print(x_train.shape)\n",
    "print(y_train.shape)\n",
    "print(x_test.shape)\n",
    "print(y_test.shape)\n",
    "\n",
    "x_train = x_train.reshape((33897, 47, 22, 1))\n",
    "x_test = x_test.reshape((8475,47, 22,1)) \n",
    "print(x_train.shape)\n",
    "print(x_test.shape)\n"
   ]
  },
  {
   "cell_type": "code",
   "execution_count": 9,
   "metadata": {},
   "outputs": [],
   "source": [
    "from tensorflow.keras.models import Sequential\n",
    "from tensorflow.keras.layers import Dense"
   ]
  },
  {
   "cell_type": "code",
   "execution_count": 10,
   "metadata": {},
   "outputs": [],
   "source": [
    "model = Sequential()\n",
    "\n",
    "model.add(tf.keras.layers.Conv2D(filters = 12, kernel_size = (3,3), input_shape = (47, 22, 1), activation='relu'))\n",
    "\n",
    "model.add(tf.keras.layers.Conv2D(filters = 18, kernel_size = (3,3), activation='relu'))\n",
    "model.add(tf.keras.layers.MaxPooling2D(pool_size=(2,2)))\n",
    "\n",
    "\n",
    "\n",
    "model.add(tf.keras.layers.Conv2D(filters = 36,kernel_size = (3,3), activation='relu'))\n",
    "model.add(tf.keras.layers.MaxPooling2D(pool_size=(2,2)))\n",
    "model.add(tf.keras.layers.Conv2D(filters = 54,kernel_size = (3,3), activation='relu'))\n",
    "\n",
    "\n",
    "model.add(tf.keras.layers.Flatten())\n",
    "model.add(Dense(40, activation='relu'))\n",
    "model.add(Dense(20, activation='relu'))\n",
    "model.add(Dense(1, activation='sigmoid'))"
   ]
  },
  {
   "cell_type": "code",
   "execution_count": 11,
   "metadata": {},
   "outputs": [],
   "source": [
    "model.compile(optimizer=\"adam\", loss=\"binary_crossentropy\", metrics=['accuracy'])"
   ]
  },
  {
   "cell_type": "code",
   "execution_count": 12,
   "metadata": {},
   "outputs": [
    {
     "name": "stdout",
     "output_type": "stream",
     "text": [
      "Epoch 1/10\n",
      "170/170 [==============================] - 36s 209ms/step - loss: 0.3241 - accuracy: 0.9116 - val_loss: 0.2925 - val_accuracy: 0.9127\n",
      "Epoch 2/10\n",
      "170/170 [==============================] - 35s 206ms/step - loss: 0.2874 - accuracy: 0.9154 - val_loss: 0.2918 - val_accuracy: 0.9119\n",
      "Epoch 3/10\n",
      "170/170 [==============================] - 35s 208ms/step - loss: 0.2863 - accuracy: 0.9155 - val_loss: 0.2876 - val_accuracy: 0.9120\n",
      "Epoch 4/10\n",
      "170/170 [==============================] - 36s 212ms/step - loss: 0.2837 - accuracy: 0.9159 - val_loss: 0.2852 - val_accuracy: 0.9128\n",
      "Epoch 5/10\n",
      "170/170 [==============================] - 58s 343ms/step - loss: 0.2821 - accuracy: 0.9161 - val_loss: 0.2818 - val_accuracy: 0.9120\n",
      "Epoch 6/10\n",
      "170/170 [==============================] - 51s 301ms/step - loss: 0.2741 - accuracy: 0.9162 - val_loss: 0.2771 - val_accuracy: 0.9127\n",
      "Epoch 7/10\n",
      "170/170 [==============================] - 61s 357ms/step - loss: 0.2733 - accuracy: 0.9166 - val_loss: 0.2748 - val_accuracy: 0.9129\n",
      "Epoch 8/10\n",
      "170/170 [==============================] - 73s 431ms/step - loss: 0.2712 - accuracy: 0.9166 - val_loss: 0.2771 - val_accuracy: 0.9121\n",
      "Epoch 9/10\n",
      "170/170 [==============================] - 50s 293ms/step - loss: 0.2689 - accuracy: 0.9170 - val_loss: 0.2735 - val_accuracy: 0.9134\n",
      "Epoch 10/10\n",
      "170/170 [==============================] - 61s 361ms/step - loss: 0.2680 - accuracy: 0.9170 - val_loss: 0.2748 - val_accuracy: 0.9132\n"
     ]
    },
    {
     "data": {
      "text/plain": [
       "<tensorflow.python.keras.callbacks.History at 0x2d7cbf00430>"
      ]
     },
     "execution_count": 12,
     "metadata": {},
     "output_type": "execute_result"
    }
   ],
   "source": [
    "model.fit(x_train, y_train, validation_data=(x_test, y_test), epochs=10, batch_size=200)"
   ]
  },
  {
   "cell_type": "code",
   "execution_count": 13,
   "metadata": {},
   "outputs": [
    {
     "data": {
      "text/plain": [
       "{'loss': [0.32414764165878296,\n",
       "  0.28742533922195435,\n",
       "  0.2863040268421173,\n",
       "  0.28374433517456055,\n",
       "  0.28212815523147583,\n",
       "  0.2740898132324219,\n",
       "  0.27325087785720825,\n",
       "  0.2712225317955017,\n",
       "  0.26893824338912964,\n",
       "  0.26795732975006104],\n",
       " 'accuracy': [0.9115850925445557,\n",
       "  0.9154497385025024,\n",
       "  0.9154792428016663,\n",
       "  0.9158627390861511,\n",
       "  0.9161282777786255,\n",
       "  0.9162167906761169,\n",
       "  0.9166002869606018,\n",
       "  0.916570782661438,\n",
       "  0.9169837832450867,\n",
       "  0.9170132875442505],\n",
       " 'val_loss': [0.29250195622444153,\n",
       "  0.29177752137184143,\n",
       "  0.28764835000038147,\n",
       "  0.28523191809654236,\n",
       "  0.28183794021606445,\n",
       "  0.2771092355251312,\n",
       "  0.27481162548065186,\n",
       "  0.27710556983947754,\n",
       "  0.2734741270542145,\n",
       "  0.27482619881629944],\n",
       " 'val_accuracy': [0.9126843810081482,\n",
       "  0.9118583798408508,\n",
       "  0.9119763970375061,\n",
       "  0.9128023386001587,\n",
       "  0.9119763970375061,\n",
       "  0.9126843810081482,\n",
       "  0.912920355796814,\n",
       "  0.9120944142341614,\n",
       "  0.9133923053741455,\n",
       "  0.9131563305854797]}"
      ]
     },
     "execution_count": 13,
     "metadata": {},
     "output_type": "execute_result"
    }
   ],
   "source": [
    "model.history.history"
   ]
  },
  {
   "cell_type": "code",
   "execution_count": 14,
   "metadata": {},
   "outputs": [],
   "source": [
    "loss = model.history.history[\"loss\"]\n",
    "val_loss = model.history.history[\"val_loss\"]\n"
   ]
  },
  {
   "cell_type": "code",
   "execution_count": 15,
   "metadata": {},
   "outputs": [
    {
     "data": {
      "text/plain": [
       "<matplotlib.legend.Legend at 0x2d7cb854b20>"
      ]
     },
     "execution_count": 15,
     "metadata": {},
     "output_type": "execute_result"
    },
    {
     "data": {
      "image/png": "[encoded data removed]",
      "text/plain": [
       "<Figure size 864x432 with 1 Axes>"
      ]
     },
     "metadata": {
      "needs_background": "light"
     },
     "output_type": "display_data"
    }
   ],
   "source": [
    "epochs = np.arange(1, len(loss) + 1)\n",
    "plt.figure(figsize=(12,6))\n",
    "plt.plot(epochs, loss, label='Training Loss')\n",
    "plt.plot(epochs, val_loss, label='Validation Loss')\n",
    "plt.xlabel('Epochs', fontsize=14)\n",
    "plt.ylabel('Loss', fontsize=14)\n",
    "plt.title('Training Loss vs Validation Loss')\n",
    "\n",
    "plt.legend()"
   ]
  },
  {
   "cell_type": "code",
   "execution_count": 16,
   "metadata": {},
   "outputs": [],
   "source": [
    "trainLoss, trainacc = model.evaluate(x_train, y_train, verbose = 0)"
   ]
  },
  {
   "cell_type": "code",
   "execution_count": 17,
   "metadata": {},
   "outputs": [],
   "source": [
    "testLoss, testacc = model.evaluate(x_test, y_test, verbose = 0)"
   ]
  },
  {
   "cell_type": "code",
   "execution_count": 18,
   "metadata": {},
   "outputs": [
    {
     "name": "stdout",
     "output_type": "stream",
     "text": [
      "0.9174852967262268\n",
      "0.9131563305854797\n"
     ]
    }
   ],
   "source": [
    "print(trainacc)\n",
    "print(testacc)"
   ]
  },
  {
   "cell_type": "code",
   "execution_count": 19,
   "metadata": {},
   "outputs": [],
   "source": [
    "predict = model.predict(x_test)"
   ]
  },
  {
   "cell_type": "code",
   "execution_count": 21,
   "metadata": {},
   "outputs": [],
   "source": [
    "predict = pd.Series(predict.reshape(8475,))"
   ]
  },
  {
   "cell_type": "code",
   "execution_count": 22,
   "metadata": {},
   "outputs": [],
   "source": [
    "y_pred = predict.round()"
   ]
  },
  {
   "cell_type": "code",
   "execution_count": 26,
   "metadata": {},
   "outputs": [],
   "source": [
    "y_true = y_test"
   ]
  },
  {
   "cell_type": "code",
   "execution_count": 27,
   "metadata": {},
   "outputs": [
    {
     "data": {
      "text/plain": [
       "<matplotlib.legend.Legend at 0x2d7cc1e2130>"
      ]
     },
     "execution_count": 27,
     "metadata": {},
     "output_type": "execute_result"
    },
    {
     "data": {
      "image/png": "[encoded data removed]",
      "text/plain": [
       "<Figure size 576x576 with 1 Axes>"
      ]
     },
     "metadata": {
      "needs_background": "light"
     },
     "output_type": "display_data"
    }
   ],
   "source": [
    "from sklearn.metrics import classification_report, confusion_matrix, roc_auc_score, roc_curve\n",
    "plt.figure(figsize=(8, 8))\n",
    "false_positive_rate, true_positive_rate, _ = roc_curve(y_true,y_pred, pos_label=1)\n",
    "roc_auc = roc_auc_score(y_true, y_pred)\n",
    "plt.plot(false_positive_rate, true_positive_rate, lw=2, label='ROC Curve (area = %0.2f)' % roc_auc)\n",
    "plt.xlabel('False Positive Rate', fontsize=14)\n",
    "plt.ylabel('True Positive Rate', fontsize=14)\n",
    "plt.title('ROC Curve')\n",
    "plt.legend(loc='lower right')"
   ]
  },
  {
   "cell_type": "code",
   "execution_count": 28,
   "metadata": {},
   "outputs": [
    {
     "data": {
      "text/plain": [
       "Text(0.5, 1.0, 'Karmaşıklık Matrisi ')"
      ]
     },
     "execution_count": 28,
     "metadata": {},
     "output_type": "execute_result"
    },
    {
     "data": {
      "image/png": "[encoded data removed]",
      "text/plain": [
       "<Figure size 576x576 with 2 Axes>"
      ]
     },
     "metadata": {
      "needs_background": "light"
     },
     "output_type": "display_data"
    }
   ],
   "source": [
    "matrix = confusion_matrix (y_true, y_pred)\n",
    "\n",
    "\n",
    "plt.figure(figsize=(8, 8))\n",
    "sbn.heatmap(matrix, annot=True, fmt='.5g', cmap='Reds', \n",
    "        xticklabels=['Predicted Regular', 'Predicted Thief'], \n",
    "        yticklabels=['True Regular', 'True Thief'])\n",
    "plt.title('Karmaşıklık Matrisi ')"
   ]
  },
  {
   "cell_type": "code",
   "execution_count": 29,
   "metadata": {},
   "outputs": [
    {
     "name": "stdout",
     "output_type": "stream",
     "text": [
      "              precision    recall  f1-score   support\n",
      "\n",
      "     Regular       0.92      1.00      0.95      7726\n",
      "       Thief       0.61      0.05      0.09       749\n",
      "\n",
      "    accuracy                           0.91      8475\n",
      "   macro avg       0.76      0.52      0.52      8475\n",
      "weighted avg       0.89      0.91      0.88      8475\n",
      "\n"
     ]
    }
   ],
   "source": [
    "from sklearn.metrics import classification_report\n",
    "print(classification_report(y_true, y_pred, labels=[0, 1], \n",
    "                              target_names=['Regular', 'Thief']))"
   ]
  }
 ],
 "metadata": {
  "kernelspec": {
   "display_name": "Python 3",
   "language": "python",
   "name": "python3"
  },
  "language_info": {
   "codemirror_mode": {
    "name": "ipython",
    "version": 3
   },
   "file_extension": ".py",
   "mimetype": "text/x-python",
   "name": "python",
   "nbconvert_exporter": "python",
   "pygments_lexer": "ipython3",
   "version": "3.8.8"
  },
  "vscode": {
   "interpreter": {
    "hash": "c96b91674be9a3823515af6151aa0dab3002c6eaec00ba403666da09174b4d75"
   }
  }
 },
 "nbformat": 4,
 "nbformat_minor": 2
}

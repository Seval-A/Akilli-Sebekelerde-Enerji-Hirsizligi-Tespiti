{
 "cells": [
  {
   "cell_type": "code",
   "execution_count": 1,
   "id": "df32ca25",
   "metadata": {},
   "outputs": [],
   "source": [
    "import numpy as np\n",
    "import pandas as pd\n",
    "import matplotlib.pyplot as plt\n",
    "import seaborn as sbn\n",
    "import tensorflow as tf\n",
    "from tensorflow.keras.models import Sequential\n",
    "import warnings\n",
    "warnings.filterwarnings('ignore')\n",
    "from sklearn.metrics import classification_report, confusion_matrix, multilabel_confusion_matrix, accuracy_score\n",
    "from sklearn.model_selection import train_test_split\n",
    "from sklearn.preprocessing import MinMaxScaler\n",
    "from sklearn.datasets import make_classification\n",
    "from tensorflow.keras.layers import Dense, SimpleRNN\n",
    "from tensorflow.keras.callbacks import EarlyStopping\n",
    "import csv"
   ]
  },
  {
   "cell_type": "code",
   "execution_count": 2,
   "id": "fe5cd4ff",
   "metadata": {},
   "outputs": [],
   "source": [
    "#dataset\n",
    "dataset_train = pd.read_csv('BERPublicsearchplus.csv', encoding = 'ISO-8859-1')"
   ]
  },
  {
   "cell_type": "code",
   "execution_count": 3,
   "id": "68009ec7",
   "metadata": {},
   "outputs": [],
   "source": [
    "dataset_train = dataset_train.select_dtypes(exclude=['object'])"
   ]
  },
  {
   "cell_type": "code",
   "execution_count": 4,
   "id": "4e2339ef",
   "metadata": {},
   "outputs": [
    {
     "data": {
      "text/html": [
       "<div>\n",
       "<style scoped>\n",
       "    .dataframe tbody tr th:only-of-type {\n",
       "        vertical-align: middle;\n",
       "    }\n",
       "\n",
       "    .dataframe tbody tr th {\n",
       "        vertical-align: top;\n",
       "    }\n",
       "\n",
       "    .dataframe thead th {\n",
       "        text-align: right;\n",
       "    }\n",
       "</style>\n",
       "<table border=\"1\" class=\"dataframe\">\n",
       "  <thead>\n",
       "    <tr style=\"text-align: right;\">\n",
       "      <th></th>\n",
       "      <th>Year_of_Construction</th>\n",
       "      <th>BerRating</th>\n",
       "      <th>GroundFloorArea(sq m)</th>\n",
       "      <th>UValueWall</th>\n",
       "      <th>UValueRoof</th>\n",
       "      <th>UValueFloor</th>\n",
       "      <th>UValueWindow</th>\n",
       "      <th>UvalueDoor</th>\n",
       "      <th>WallArea</th>\n",
       "      <th>RoofArea</th>\n",
       "      <th>...</th>\n",
       "      <th>ThirdWallUValue</th>\n",
       "      <th>ThirdWallAgeBandId</th>\n",
       "      <th>ThirdWallTypeId</th>\n",
       "      <th>prob_smarea_error_0corr</th>\n",
       "      <th>prob_smarea_error_100corr</th>\n",
       "      <th>RER</th>\n",
       "      <th>RenewEPnren</th>\n",
       "      <th>RenewEPren</th>\n",
       "      <th>CPC</th>\n",
       "      <th>EPC</th>\n",
       "    </tr>\n",
       "  </thead>\n",
       "  <tbody>\n",
       "    <tr>\n",
       "      <th>0</th>\n",
       "      <td>2003</td>\n",
       "      <td>231.56</td>\n",
       "      <td>94.31</td>\n",
       "      <td>0.55</td>\n",
       "      <td>0.40</td>\n",
       "      <td>0.41</td>\n",
       "      <td>1.70</td>\n",
       "      <td>3.00</td>\n",
       "      <td>85.08</td>\n",
       "      <td>94.31</td>\n",
       "      <td>...</td>\n",
       "      <td>NaN</td>\n",
       "      <td>NaN</td>\n",
       "      <td>NaN</td>\n",
       "      <td>NaN</td>\n",
       "      <td>NaN</td>\n",
       "      <td>NaN</td>\n",
       "      <td>NaN</td>\n",
       "      <td>NaN</td>\n",
       "      <td>NaN</td>\n",
       "      <td>NaN</td>\n",
       "    </tr>\n",
       "    <tr>\n",
       "      <th>1</th>\n",
       "      <td>2002</td>\n",
       "      <td>213.33</td>\n",
       "      <td>112.56</td>\n",
       "      <td>0.55</td>\n",
       "      <td>0.26</td>\n",
       "      <td>0.41</td>\n",
       "      <td>2.89</td>\n",
       "      <td>2.75</td>\n",
       "      <td>96.24</td>\n",
       "      <td>56.28</td>\n",
       "      <td>...</td>\n",
       "      <td>NaN</td>\n",
       "      <td>NaN</td>\n",
       "      <td>NaN</td>\n",
       "      <td>0.000003</td>\n",
       "      <td>0.0025</td>\n",
       "      <td>NaN</td>\n",
       "      <td>NaN</td>\n",
       "      <td>NaN</td>\n",
       "      <td>NaN</td>\n",
       "      <td>NaN</td>\n",
       "    </tr>\n",
       "    <tr>\n",
       "      <th>2</th>\n",
       "      <td>1980</td>\n",
       "      <td>140.55</td>\n",
       "      <td>190.88</td>\n",
       "      <td>0.40</td>\n",
       "      <td>0.32</td>\n",
       "      <td>0.59</td>\n",
       "      <td>1.90</td>\n",
       "      <td>3.00</td>\n",
       "      <td>102.47</td>\n",
       "      <td>208.07</td>\n",
       "      <td>...</td>\n",
       "      <td>0.30</td>\n",
       "      <td>6.0</td>\n",
       "      <td>5.0</td>\n",
       "      <td>NaN</td>\n",
       "      <td>NaN</td>\n",
       "      <td>NaN</td>\n",
       "      <td>NaN</td>\n",
       "      <td>NaN</td>\n",
       "      <td>NaN</td>\n",
       "      <td>NaN</td>\n",
       "    </tr>\n",
       "    <tr>\n",
       "      <th>3</th>\n",
       "      <td>1900</td>\n",
       "      <td>286.33</td>\n",
       "      <td>97.31</td>\n",
       "      <td>1.26</td>\n",
       "      <td>0.23</td>\n",
       "      <td>0.74</td>\n",
       "      <td>4.18</td>\n",
       "      <td>3.00</td>\n",
       "      <td>139.00</td>\n",
       "      <td>80.95</td>\n",
       "      <td>...</td>\n",
       "      <td>NaN</td>\n",
       "      <td>NaN</td>\n",
       "      <td>NaN</td>\n",
       "      <td>NaN</td>\n",
       "      <td>NaN</td>\n",
       "      <td>NaN</td>\n",
       "      <td>NaN</td>\n",
       "      <td>NaN</td>\n",
       "      <td>NaN</td>\n",
       "      <td>NaN</td>\n",
       "    </tr>\n",
       "    <tr>\n",
       "      <th>4</th>\n",
       "      <td>1960</td>\n",
       "      <td>579.60</td>\n",
       "      <td>76.95</td>\n",
       "      <td>1.78</td>\n",
       "      <td>0.57</td>\n",
       "      <td>0.73</td>\n",
       "      <td>4.80</td>\n",
       "      <td>1.60</td>\n",
       "      <td>80.93</td>\n",
       "      <td>160.14</td>\n",
       "      <td>...</td>\n",
       "      <td>1.78</td>\n",
       "      <td>4.0</td>\n",
       "      <td>4.0</td>\n",
       "      <td>0.002500</td>\n",
       "      <td>0.0025</td>\n",
       "      <td>NaN</td>\n",
       "      <td>NaN</td>\n",
       "      <td>NaN</td>\n",
       "      <td>NaN</td>\n",
       "      <td>NaN</td>\n",
       "    </tr>\n",
       "  </tbody>\n",
       "</table>\n",
       "<p>5 rows × 157 columns</p>\n",
       "</div>"
      ],
      "text/plain": [
       "   Year_of_Construction  BerRating  GroundFloorArea(sq m)  UValueWall  \\\n",
       "0                  2003     231.56                  94.31        0.55   \n",
       "1                  2002     213.33                 112.56        0.55   \n",
       "2                  1980     140.55                 190.88        0.40   \n",
       "3                  1900     286.33                  97.31        1.26   \n",
       "4                  1960     579.60                  76.95        1.78   \n",
       "\n",
       "   UValueRoof  UValueFloor  UValueWindow  UvalueDoor  WallArea  RoofArea  ...  \\\n",
       "0        0.40         0.41          1.70        3.00     85.08     94.31  ...   \n",
       "1        0.26         0.41          2.89        2.75     96.24     56.28  ...   \n",
       "2        0.32         0.59          1.90        3.00    102.47    208.07  ...   \n",
       "3        0.23         0.74          4.18        3.00    139.00     80.95  ...   \n",
       "4        0.57         0.73          4.80        1.60     80.93    160.14  ...   \n",
       "\n",
       "   ThirdWallUValue  ThirdWallAgeBandId  ThirdWallTypeId  \\\n",
       "0              NaN                 NaN              NaN   \n",
       "1              NaN                 NaN              NaN   \n",
       "2             0.30                 6.0              5.0   \n",
       "3              NaN                 NaN              NaN   \n",
       "4             1.78                 4.0              4.0   \n",
       "\n",
       "   prob_smarea_error_0corr  prob_smarea_error_100corr  RER  RenewEPnren  \\\n",
       "0                      NaN                        NaN  NaN          NaN   \n",
       "1                 0.000003                     0.0025  NaN          NaN   \n",
       "2                      NaN                        NaN  NaN          NaN   \n",
       "3                      NaN                        NaN  NaN          NaN   \n",
       "4                 0.002500                     0.0025  NaN          NaN   \n",
       "\n",
       "   RenewEPren  CPC  EPC  \n",
       "0         NaN  NaN  NaN  \n",
       "1         NaN  NaN  NaN  \n",
       "2         NaN  NaN  NaN  \n",
       "3         NaN  NaN  NaN  \n",
       "4         NaN  NaN  NaN  \n",
       "\n",
       "[5 rows x 157 columns]"
      ]
     },
     "execution_count": 4,
     "metadata": {},
     "output_type": "execute_result"
    }
   ],
   "source": [
    "dataset_train.head()"
   ]
  },
  {
   "cell_type": "code",
   "execution_count": 5,
   "id": "41498688",
   "metadata": {},
   "outputs": [],
   "source": [
    "dataset_train = dataset_train.fillna(0) "
   ]
  },
  {
   "cell_type": "code",
   "execution_count": 6,
   "id": "4a9a9832",
   "metadata": {},
   "outputs": [
    {
     "data": {
      "text/html": [
       "<div>\n",
       "<style scoped>\n",
       "    .dataframe tbody tr th:only-of-type {\n",
       "        vertical-align: middle;\n",
       "    }\n",
       "\n",
       "    .dataframe tbody tr th {\n",
       "        vertical-align: top;\n",
       "    }\n",
       "\n",
       "    .dataframe thead th {\n",
       "        text-align: right;\n",
       "    }\n",
       "</style>\n",
       "<table border=\"1\" class=\"dataframe\">\n",
       "  <thead>\n",
       "    <tr style=\"text-align: right;\">\n",
       "      <th></th>\n",
       "      <th>Year_of_Construction</th>\n",
       "      <th>BerRating</th>\n",
       "      <th>GroundFloorArea(sq m)</th>\n",
       "      <th>UValueWall</th>\n",
       "      <th>UValueRoof</th>\n",
       "      <th>UValueFloor</th>\n",
       "      <th>UValueWindow</th>\n",
       "      <th>UvalueDoor</th>\n",
       "      <th>WallArea</th>\n",
       "      <th>RoofArea</th>\n",
       "      <th>...</th>\n",
       "      <th>ThirdWallUValue</th>\n",
       "      <th>ThirdWallAgeBandId</th>\n",
       "      <th>ThirdWallTypeId</th>\n",
       "      <th>prob_smarea_error_0corr</th>\n",
       "      <th>prob_smarea_error_100corr</th>\n",
       "      <th>RER</th>\n",
       "      <th>RenewEPnren</th>\n",
       "      <th>RenewEPren</th>\n",
       "      <th>CPC</th>\n",
       "      <th>EPC</th>\n",
       "    </tr>\n",
       "  </thead>\n",
       "  <tbody>\n",
       "    <tr>\n",
       "      <th>0</th>\n",
       "      <td>2003</td>\n",
       "      <td>231.56</td>\n",
       "      <td>94.31</td>\n",
       "      <td>0.55</td>\n",
       "      <td>0.40</td>\n",
       "      <td>0.41</td>\n",
       "      <td>1.70</td>\n",
       "      <td>3.00</td>\n",
       "      <td>85.08</td>\n",
       "      <td>94.31</td>\n",
       "      <td>...</td>\n",
       "      <td>0.00</td>\n",
       "      <td>0.0</td>\n",
       "      <td>0.0</td>\n",
       "      <td>0.000000</td>\n",
       "      <td>0.0000</td>\n",
       "      <td>0.0</td>\n",
       "      <td>0.0</td>\n",
       "      <td>0.0</td>\n",
       "      <td>0.0</td>\n",
       "      <td>0.0</td>\n",
       "    </tr>\n",
       "    <tr>\n",
       "      <th>1</th>\n",
       "      <td>2002</td>\n",
       "      <td>213.33</td>\n",
       "      <td>112.56</td>\n",
       "      <td>0.55</td>\n",
       "      <td>0.26</td>\n",
       "      <td>0.41</td>\n",
       "      <td>2.89</td>\n",
       "      <td>2.75</td>\n",
       "      <td>96.24</td>\n",
       "      <td>56.28</td>\n",
       "      <td>...</td>\n",
       "      <td>0.00</td>\n",
       "      <td>0.0</td>\n",
       "      <td>0.0</td>\n",
       "      <td>0.000003</td>\n",
       "      <td>0.0025</td>\n",
       "      <td>0.0</td>\n",
       "      <td>0.0</td>\n",
       "      <td>0.0</td>\n",
       "      <td>0.0</td>\n",
       "      <td>0.0</td>\n",
       "    </tr>\n",
       "    <tr>\n",
       "      <th>2</th>\n",
       "      <td>1980</td>\n",
       "      <td>140.55</td>\n",
       "      <td>190.88</td>\n",
       "      <td>0.40</td>\n",
       "      <td>0.32</td>\n",
       "      <td>0.59</td>\n",
       "      <td>1.90</td>\n",
       "      <td>3.00</td>\n",
       "      <td>102.47</td>\n",
       "      <td>208.07</td>\n",
       "      <td>...</td>\n",
       "      <td>0.30</td>\n",
       "      <td>6.0</td>\n",
       "      <td>5.0</td>\n",
       "      <td>0.000000</td>\n",
       "      <td>0.0000</td>\n",
       "      <td>0.0</td>\n",
       "      <td>0.0</td>\n",
       "      <td>0.0</td>\n",
       "      <td>0.0</td>\n",
       "      <td>0.0</td>\n",
       "    </tr>\n",
       "    <tr>\n",
       "      <th>3</th>\n",
       "      <td>1900</td>\n",
       "      <td>286.33</td>\n",
       "      <td>97.31</td>\n",
       "      <td>1.26</td>\n",
       "      <td>0.23</td>\n",
       "      <td>0.74</td>\n",
       "      <td>4.18</td>\n",
       "      <td>3.00</td>\n",
       "      <td>139.00</td>\n",
       "      <td>80.95</td>\n",
       "      <td>...</td>\n",
       "      <td>0.00</td>\n",
       "      <td>0.0</td>\n",
       "      <td>0.0</td>\n",
       "      <td>0.000000</td>\n",
       "      <td>0.0000</td>\n",
       "      <td>0.0</td>\n",
       "      <td>0.0</td>\n",
       "      <td>0.0</td>\n",
       "      <td>0.0</td>\n",
       "      <td>0.0</td>\n",
       "    </tr>\n",
       "    <tr>\n",
       "      <th>4</th>\n",
       "      <td>1960</td>\n",
       "      <td>579.60</td>\n",
       "      <td>76.95</td>\n",
       "      <td>1.78</td>\n",
       "      <td>0.57</td>\n",
       "      <td>0.73</td>\n",
       "      <td>4.80</td>\n",
       "      <td>1.60</td>\n",
       "      <td>80.93</td>\n",
       "      <td>160.14</td>\n",
       "      <td>...</td>\n",
       "      <td>1.78</td>\n",
       "      <td>4.0</td>\n",
       "      <td>4.0</td>\n",
       "      <td>0.002500</td>\n",
       "      <td>0.0025</td>\n",
       "      <td>0.0</td>\n",
       "      <td>0.0</td>\n",
       "      <td>0.0</td>\n",
       "      <td>0.0</td>\n",
       "      <td>0.0</td>\n",
       "    </tr>\n",
       "  </tbody>\n",
       "</table>\n",
       "<p>5 rows × 157 columns</p>\n",
       "</div>"
      ],
      "text/plain": [
       "   Year_of_Construction  BerRating  GroundFloorArea(sq m)  UValueWall  \\\n",
       "0                  2003     231.56                  94.31        0.55   \n",
       "1                  2002     213.33                 112.56        0.55   \n",
       "2                  1980     140.55                 190.88        0.40   \n",
       "3                  1900     286.33                  97.31        1.26   \n",
       "4                  1960     579.60                  76.95        1.78   \n",
       "\n",
       "   UValueRoof  UValueFloor  UValueWindow  UvalueDoor  WallArea  RoofArea  ...  \\\n",
       "0        0.40         0.41          1.70        3.00     85.08     94.31  ...   \n",
       "1        0.26         0.41          2.89        2.75     96.24     56.28  ...   \n",
       "2        0.32         0.59          1.90        3.00    102.47    208.07  ...   \n",
       "3        0.23         0.74          4.18        3.00    139.00     80.95  ...   \n",
       "4        0.57         0.73          4.80        1.60     80.93    160.14  ...   \n",
       "\n",
       "   ThirdWallUValue  ThirdWallAgeBandId  ThirdWallTypeId  \\\n",
       "0             0.00                 0.0              0.0   \n",
       "1             0.00                 0.0              0.0   \n",
       "2             0.30                 6.0              5.0   \n",
       "3             0.00                 0.0              0.0   \n",
       "4             1.78                 4.0              4.0   \n",
       "\n",
       "   prob_smarea_error_0corr  prob_smarea_error_100corr  RER  RenewEPnren  \\\n",
       "0                 0.000000                     0.0000  0.0          0.0   \n",
       "1                 0.000003                     0.0025  0.0          0.0   \n",
       "2                 0.000000                     0.0000  0.0          0.0   \n",
       "3                 0.000000                     0.0000  0.0          0.0   \n",
       "4                 0.002500                     0.0025  0.0          0.0   \n",
       "\n",
       "   RenewEPren  CPC  EPC  \n",
       "0         0.0  0.0  0.0  \n",
       "1         0.0  0.0  0.0  \n",
       "2         0.0  0.0  0.0  \n",
       "3         0.0  0.0  0.0  \n",
       "4         0.0  0.0  0.0  \n",
       "\n",
       "[5 rows x 157 columns]"
      ]
     },
     "execution_count": 6,
     "metadata": {},
     "output_type": "execute_result"
    }
   ],
   "source": [
    "dataset_train.head()"
   ]
  },
  {
   "cell_type": "code",
   "execution_count": 7,
   "id": "36cd5466",
   "metadata": {},
   "outputs": [],
   "source": [
    "x = dataset_train.values"
   ]
  },
  {
   "cell_type": "code",
   "execution_count": 8,
   "id": "7d781f8f",
   "metadata": {},
   "outputs": [],
   "source": [
    "from sklearn.cluster import KMeans\n",
    "\n",
    "kmeans = KMeans(n_clusters=2, random_state=0)\n",
    "kmeans.fit(x)\n",
    "\n",
    "labels = kmeans.predict(x)"
   ]
  },
  {
   "cell_type": "code",
   "execution_count": 9,
   "id": "d739c43a",
   "metadata": {},
   "outputs": [],
   "source": [
    "x_train, x_test, y_train, y_test = train_test_split(x, labels, test_size = 0.30, random_state = 15)"
   ]
  },
  {
   "cell_type": "code",
   "execution_count": 10,
   "id": "c7d33dea",
   "metadata": {},
   "outputs": [],
   "source": [
    "\n",
    "scaler = MinMaxScaler()\n",
    "scaler.fit(x_train)\n",
    "scaler.fit(x_test)\n",
    "x_train = scaler.transform(x_train)\n",
    "x_test = scaler.transform(x_test)"
   ]
  },
  {
   "cell_type": "code",
   "execution_count": 11,
   "id": "abbfdbbe",
   "metadata": {},
   "outputs": [
    {
     "name": "stdout",
     "output_type": "stream",
     "text": [
      "(734002, 157)\n",
      "(734002,)\n",
      "(314573, 157)\n",
      "(314573,)\n"
     ]
    }
   ],
   "source": [
    "print(x_train.shape)\n",
    "print(y_train.shape)\n",
    "print(x_test.shape)\n",
    "print(y_test.shape)\n",
    "x_train_reshaped = np.reshape(x_train, (734002, 157, 1))\n",
    "y_train_reshaped = np.reshape(y_train, (734002, 1))\n",
    "x_test_reshaped = np.reshape(x_test, (314573, 157, 1))\n",
    "y_test_reshaped = np.reshape(y_test, (314573, 1))\n"
   ]
  },
  {
   "cell_type": "code",
   "execution_count": 12,
   "id": "b058f71c",
   "metadata": {},
   "outputs": [],
   "source": [
    "# RNN \n",
    "model = Sequential()\n",
    "model.add(SimpleRNN(units=64, return_sequences=True, input_shape=(157, 1)))\n",
    "model.add(SimpleRNN(units=64))  # İkinci bir RNN katmanı eklendi\n",
    "model.add(Dense(units=1, activation='sigmoid'))\n"
   ]
  },
  {
   "cell_type": "code",
   "execution_count": 13,
   "id": "e2404a07",
   "metadata": {},
   "outputs": [],
   "source": [
    "\n",
    "model.compile(optimizer='adam', loss='binary_crossentropy', metrics=['accuracy'])\n"
   ]
  },
  {
   "cell_type": "code",
   "execution_count": 14,
   "id": "b8219fe7",
   "metadata": {},
   "outputs": [
    {
     "name": "stdout",
     "output_type": "stream",
     "text": [
      "Epoch 1/4\n",
      "22938/22938 [==============================] - 1143s 50ms/step - loss: 0.4416 - accuracy: 0.8199 - val_loss: 0.4885 - val_accuracy: 0.8199\n",
      "Epoch 2/4\n",
      "22938/22938 [==============================] - 1167s 51ms/step - loss: 0.3737 - accuracy: 0.8415 - val_loss: 0.3372 - val_accuracy: 0.8378\n",
      "Epoch 3/4\n",
      "22938/22938 [==============================] - 1171s 51ms/step - loss: 0.2526 - accuracy: 0.8890 - val_loss: 0.2165 - val_accuracy: 0.9074\n",
      "Epoch 4/4\n",
      "22938/22938 [==============================] - 1173s 51ms/step - loss: 0.2239 - accuracy: 0.9038 - val_loss: 0.2270 - val_accuracy: 0.9025\n"
     ]
    }
   ],
   "source": [
    "\n",
    "history = model.fit(x_train_reshaped, y_train_reshaped, batch_size=32, epochs=4, validation_data=(x_test_reshaped, y_test_reshaped))\n"
   ]
  },
  {
   "cell_type": "code",
   "execution_count": 15,
   "id": "3db1a9ae",
   "metadata": {},
   "outputs": [],
   "source": [
    "def plot_history(history, model_name, has_metrics=False, metric_name=None, \n",
    "                 loss_metric=None):\n",
    "  loss = history.history['loss']\n",
    "  val_loss = history.history['val_loss']\n",
    "  epochs = np.arange(1, len(loss) + 1)\n",
    "\n",
    "  plt.figure(figsize=(12, 6))\n",
    "  plt.plot(epochs, loss, label='Training Loss')\n",
    "  plt.plot(epochs, val_loss, label='Validation Loss')\n",
    "  plt.xlabel('Epochs', fontsize=14)\n",
    "  plt.ylabel('Loss' if loss_metric is not None else loss_metric, fontsize=14)\n",
    "  plt.title('Training vs Validation Loss \\n{}'.format('' if model_name is None else model_name), \n",
    "            fontsize=18)\n",
    "  plt.legend()\n",
    "\n",
    "  if has_metrics and metric_name is not None:\n",
    "   \n",
    "    plt.figure(figsize=(12, 6))\n",
    "    metric = history.history[metric_name]\n",
    "    val_metric = history.history['val_{}'.format_metric_name]\n",
    "    \n",
    "    plt.plot(epochs, metric, label='Training')\n",
    "    plt.plot(epochs, val_metric, label='Validation')\n",
    "    plt.xlabel('Epochs', fontsize=14)\n",
    "    plt.ylabel(metric_name, fontsize=14)\n",
    "    plt.title('Training vs Validation Loss {}'.format(metric_name), fontsize=18)\n",
    "    plt.legend()"
   ]
  },
  {
   "cell_type": "code",
   "execution_count": 16,
   "id": "6671652d",
   "metadata": {},
   "outputs": [
    {
     "data": {
      "image/png": "[encoded data removed]",
      "text/plain": [
       "<Figure size 1200x600 with 1 Axes>"
      ]
     },
     "metadata": {},
     "output_type": "display_data"
    }
   ],
   "source": [
    "plot_history(history=history, \n",
    "             model_name='')"
   ]
  },
  {
   "cell_type": "code",
   "execution_count": 17,
   "id": "a5025572",
   "metadata": {},
   "outputs": [
    {
     "name": "stdout",
     "output_type": "stream",
     "text": [
      "9831/9831 [==============================] - 146s 15ms/step\n"
     ]
    }
   ],
   "source": [
    "from sklearn.metrics import roc_curve, auc\n",
    "# Tahminleri al\n",
    "y_pred = model.predict(x_test_reshaped)"
   ]
  },
  {
   "cell_type": "code",
   "execution_count": 18,
   "id": "225bdde7",
   "metadata": {},
   "outputs": [],
   "source": [
    "# ROC \n",
    "fpr, tpr, thresholds = roc_curve(y_test_reshaped, y_pred)\n",
    "roc_auc = auc(fpr, tpr)"
   ]
  },
  {
   "cell_type": "code",
   "execution_count": 19,
   "id": "84a02f86",
   "metadata": {},
   "outputs": [
    {
     "data": {
      "image/png": "[encoded data removed]",
      "text/plain": [
       "<Figure size 640x480 with 1 Axes>"
      ]
     },
     "metadata": {},
     "output_type": "display_data"
    }
   ],
   "source": [
    "plt.figure()\n",
    "plt.plot(fpr, tpr, label='ROC curve (area = %0.2f)' % roc_auc)\n",
    "plt.plot([0, 1], [0, 1], 'k--')\n",
    "plt.xlim([0.0, 1.0])\n",
    "plt.ylim([0.0, 1.05])\n",
    "plt.xlabel('False Positive Rate')\n",
    "plt.ylabel('True Positive Rate')\n",
    "plt.title('Receiver Operating Characteristic')\n",
    "plt.legend(loc=\"lower right\")\n",
    "plt.show()\n",
    "\n"
   ]
  },
  {
   "cell_type": "code",
   "execution_count": 21,
   "id": "d7da34f3",
   "metadata": {},
   "outputs": [],
   "source": [
    "# Tahminleri al\n",
    "\n",
    "y_pred = (y_pred > 0.5).astype(int)\n",
    "\n"
   ]
  },
  {
   "cell_type": "code",
   "execution_count": 22,
   "id": "7a1db17f",
   "metadata": {},
   "outputs": [
    {
     "name": "stdout",
     "output_type": "stream",
     "text": [
      "Accuracy: 0.90\n"
     ]
    }
   ],
   "source": [
    "# Accuracy \n",
    "accuracy = accuracy_score(y_test_reshaped, y_pred)\n",
    "print(\"Accuracy: {:.2f}\".format(accuracy))\n"
   ]
  },
  {
   "cell_type": "code",
   "execution_count": 45,
   "id": "a5a627bb",
   "metadata": {},
   "outputs": [],
   "source": [
    "\n",
    "cm = confusion_matrix(y_test_reshaped, y_pred)\n"
   ]
  },
  {
   "cell_type": "code",
   "execution_count": 46,
   "id": "991543c3",
   "metadata": {},
   "outputs": [
    {
     "data": {
      "image/png": "[encoded data removed]",
      "text/plain": [
       "<Figure size 640x480 with 2 Axes>"
      ]
     },
     "metadata": {},
     "output_type": "display_data"
    }
   ],
   "source": [
    "# Karmaşıklık matrisi\n",
    "labels = ['Class 0', 'Class 1']  # Sınıf etiketleri\n",
    "sbn.heatmap(cm, annot=True, fmt='d', cmap='Blues', xticklabels=labels, yticklabels=labels)\n",
    "plt.xlabel('Tahmin Edilen Etiket')\n",
    "plt.ylabel('Gerçek Etiket')\n",
    "plt.title('Karmaşıklık Matrisi')\n",
    "plt.show()"
   ]
  }
 ],
 "metadata": {
  "kernelspec": {
   "display_name": "Python 3 (ipykernel)",
   "language": "python",
   "name": "python3"
  },
  "language_info": {
   "codemirror_mode": {
    "name": "ipython",
    "version": 3
   },
   "file_extension": ".py",
   "mimetype": "text/x-python",
   "name": "python",
   "nbconvert_exporter": "python",
   "pygments_lexer": "ipython3",
   "version": "3.9.16"
  }
 },
 "nbformat": 4,
 "nbformat_minor": 5
}
